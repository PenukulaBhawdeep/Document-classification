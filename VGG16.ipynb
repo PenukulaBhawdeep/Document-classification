{
  "nbformat": 4,
  "nbformat_minor": 0,
  "metadata": {
    "colab": {
      "provenance": []
    },
    "kernelspec": {
      "name": "python3",
      "display_name": "Python 3"
    },
    "language_info": {
      "name": "python"
    }
  },
  "cells": [
    {
      "cell_type": "markdown",
      "source": [
        "**CLASSIFICATION**\n"
      ],
      "metadata": {
        "id": "7FNOkWm44bkQ"
      }
    },
    {
      "cell_type": "code",
      "source": [
        "import tensorflow as tf\n",
        "from tensorflow.keras.preprocessing.image import ImageDataGenerator\n",
        "from tensorflow.keras.applications import VGG16\n",
        "from tensorflow.keras.models import Sequential\n",
        "from tensorflow.keras.layers import Dense, Flatten, Dropout"
      ],
      "metadata": {
        "id": "qgWePXxc4gAQ"
      },
      "execution_count": null,
      "outputs": []
    },
    {
      "cell_type": "code",
      "source": [
        "len(os.listdir(\"/content/DTA/email\"))"
      ],
      "metadata": {
        "colab": {
          "base_uri": "https://localhost:8080/"
        },
        "id": "TSISAlmmDcsQ",
        "outputId": "cc6d2bb1-4187-460b-a292-ca887062bcf3"
      },
      "execution_count": null,
      "outputs": [
        {
          "output_type": "execute_result",
          "data": {
            "text/plain": [
              "55"
            ]
          },
          "metadata": {},
          "execution_count": 2
        }
      ]
    },
    {
      "cell_type": "code",
      "source": [
        "len(os.listdir(\"/content/DTA/resume\"))"
      ],
      "metadata": {
        "colab": {
          "base_uri": "https://localhost:8080/"
        },
        "id": "z21Icyg1FSbm",
        "outputId": "eaac3b75-b646-4eaa-c12c-b5adfa195d63"
      },
      "execution_count": null,
      "outputs": [
        {
          "output_type": "execute_result",
          "data": {
            "text/plain": [
              "55"
            ]
          },
          "metadata": {},
          "execution_count": 3
        }
      ]
    },
    {
      "cell_type": "code",
      "source": [
        "len(os.listdir(\"/content/DTA/scientific\"))"
      ],
      "metadata": {
        "colab": {
          "base_uri": "https://localhost:8080/"
        },
        "id": "Gj2K270NFZ28",
        "outputId": "c7e0de9f-2ede-475b-a046-61f0ac003345"
      },
      "execution_count": null,
      "outputs": [
        {
          "output_type": "execute_result",
          "data": {
            "text/plain": [
              "55"
            ]
          },
          "metadata": {},
          "execution_count": 4
        }
      ]
    },
    {
      "cell_type": "code",
      "source": [
        "len(os.listdir(\"/content/path_to_output_folder/train/email\"))"
      ],
      "metadata": {
        "colab": {
          "base_uri": "https://localhost:8080/"
        },
        "id": "_VoXPNGpFcHE",
        "outputId": "5c81b9d1-c94b-4f20-9da9-fa16963f243c"
      },
      "execution_count": null,
      "outputs": [
        {
          "output_type": "execute_result",
          "data": {
            "text/plain": [
              "33"
            ]
          },
          "metadata": {},
          "execution_count": 5
        }
      ]
    },
    {
      "cell_type": "code",
      "source": [
        "len(os.listdir(\"/content/DTA/scientific\"))"
      ],
      "metadata": {
        "id": "noa0JWnQFnhP"
      },
      "execution_count": null,
      "outputs": []
    },
    {
      "cell_type": "code",
      "source": [
        "len(os.listdir(\"/content/DTA/scientific\"))"
      ],
      "metadata": {
        "id": "P_bzD5ffFnAh"
      },
      "execution_count": null,
      "outputs": []
    },
    {
      "cell_type": "code",
      "source": [
        "from tensorflow.keras.preprocessing.image import ImageDataGenerator\n",
        "\n",
        "# Define image size and batch size\n",
        "IMG_SIZE = (224, 224)\n",
        "BATCH_SIZE = 32\n",
        "\n",
        "# ImageDataGenerator for data augmentation and preprocessing\n",
        "train_datagen = ImageDataGenerator(\n",
        "    rescale=1./255,\n",
        "    rotation_range=20,\n",
        "    width_shift_range=0.2,\n",
        "    height_shift_range=0.2,\n",
        "    shear_range=0.2,\n",
        "    zoom_range=0.2,\n",
        "    horizontal_flip=True\n",
        ")\n",
        "\n",
        "val_test_datagen = ImageDataGenerator(rescale=1./255)\n",
        "\n",
        "# Training data generator\n",
        "train_generator = train_datagen.flow_from_directory(\n",
        "    os.path.join(output_base_dir, 'train'),\n",
        "    target_size=IMG_SIZE,\n",
        "    batch_size=BATCH_SIZE,\n",
        "    class_mode='categorical'\n",
        ")\n",
        "\n",
        "# Validation data generator\n",
        "validation_generator = val_test_datagen.flow_from_directory(\n",
        "    os.path.join(output_base_dir, 'val'),\n",
        "    target_size=IMG_SIZE,\n",
        "    batch_size=BATCH_SIZE,\n",
        "    class_mode='categorical'\n",
        ")\n",
        "\n",
        "# Test data generator\n",
        "test_generator = val_test_datagen.flow_from_directory(\n",
        "    os.path.join(output_base_dir, 'test'),\n",
        "    target_size=IMG_SIZE,\n",
        "    batch_size=BATCH_SIZE,\n",
        "    class_mode='categorical',\n",
        "    shuffle=False\n",
        ")\n"
      ],
      "metadata": {
        "colab": {
          "base_uri": "https://localhost:8080/"
        },
        "id": "sy0efgALGENH",
        "outputId": "ccbeb45d-a85e-48f2-9956-f8b0b0ae4714"
      },
      "execution_count": null,
      "outputs": [
        {
          "output_type": "stream",
          "name": "stdout",
          "text": [
            "Found 99 images belonging to 3 classes.\n",
            "Found 33 images belonging to 3 classes.\n",
            "Found 33 images belonging to 3 classes.\n"
          ]
        }
      ]
    },
    {
      "cell_type": "code",
      "source": [
        "from tensorflow.keras.applications import VGG16\n",
        "from tensorflow.keras.models import Sequential\n",
        "from tensorflow.keras.layers import Dense, Flatten, Dropout\n",
        "\n",
        "# Load pre-trained VGG16 model + higher level layers\n",
        "base_model = VGG16(input_shape=IMG_SIZE + (3,), include_top=False, weights='imagenet')\n",
        "base_model.trainable = False  # Freeze the base model\n",
        "\n",
        "# Build the model\n",
        "model = Sequential([\n",
        "    base_model,\n",
        "    Flatten(),\n",
        "    Dense(256, activation='relu'),\n",
        "    Dropout(0.5),\n",
        "    Dense(3, activation='softmax')  # 3 classes: resume, email, scientific publication\n",
        "])\n",
        "\n",
        "# Compile the model\n",
        "model.compile(optimizer='adam', loss='categorical_crossentropy', metrics=['accuracy'])\n",
        "\n",
        "# Summary of the model\n",
        "model.summary()\n"
      ],
      "metadata": {
        "colab": {
          "base_uri": "https://localhost:8080/"
        },
        "id": "LegqAQ6xG4ma",
        "outputId": "0e31b2f4-5d80-4053-c6b8-4367102c8206"
      },
      "execution_count": null,
      "outputs": [
        {
          "output_type": "stream",
          "name": "stdout",
          "text": [
            "Downloading data from https://storage.googleapis.com/tensorflow/keras-applications/vgg16/vgg16_weights_tf_dim_ordering_tf_kernels_notop.h5\n",
            "58889256/58889256 [==============================] - 1s 0us/step\n",
            "Model: \"sequential\"\n",
            "_________________________________________________________________\n",
            " Layer (type)                Output Shape              Param #   \n",
            "=================================================================\n",
            " vgg16 (Functional)          (None, 7, 7, 512)         14714688  \n",
            "                                                                 \n",
            " flatten (Flatten)           (None, 25088)             0         \n",
            "                                                                 \n",
            " dense (Dense)               (None, 256)               6422784   \n",
            "                                                                 \n",
            " dropout (Dropout)           (None, 256)               0         \n",
            "                                                                 \n",
            " dense_1 (Dense)             (None, 3)                 771       \n",
            "                                                                 \n",
            "=================================================================\n",
            "Total params: 21138243 (80.64 MB)\n",
            "Trainable params: 6423555 (24.50 MB)\n",
            "Non-trainable params: 14714688 (56.13 MB)\n",
            "_________________________________________________________________\n"
          ]
        }
      ]
    },
    {
      "cell_type": "code",
      "source": [
        "# Train the model\n",
        "history = model.fit(\n",
        "    train_generator,\n",
        "    validation_data=validation_generator,\n",
        "    epochs=20,  # Adjust the number of epochs as needed\n",
        "    steps_per_epoch=train_generator.samples // BATCH_SIZE,\n",
        "    validation_steps=validation_generator.samples // BATCH_SIZE\n",
        ")"
      ],
      "metadata": {
        "colab": {
          "base_uri": "https://localhost:8080/"
        },
        "id": "9DSEO0CDHGS2",
        "outputId": "e8f9930c-6697-47c7-a94d-459f3fe116fd"
      },
      "execution_count": null,
      "outputs": [
        {
          "output_type": "stream",
          "name": "stdout",
          "text": [
            "Epoch 1/10\n",
            "3/3 [==============================] - 68s 31s/step - loss: 4.7130 - accuracy: 0.3134 - val_loss: 1.2266 - val_accuracy: 0.6250\n",
            "Epoch 2/10\n",
            "3/3 [==============================] - 66s 32s/step - loss: 3.5696 - accuracy: 0.3582 - val_loss: 1.1114 - val_accuracy: 0.5000\n",
            "Epoch 3/10\n",
            "3/3 [==============================] - 84s 31s/step - loss: 1.6360 - accuracy: 0.5522 - val_loss: 1.5634 - val_accuracy: 0.6562\n",
            "Epoch 4/10\n",
            "3/3 [==============================] - 84s 40s/step - loss: 2.2509 - accuracy: 0.5821 - val_loss: 0.3082 - val_accuracy: 0.8125\n",
            "Epoch 5/10\n",
            "3/3 [==============================] - 64s 21s/step - loss: 2.3272 - accuracy: 0.5373 - val_loss: 0.2434 - val_accuracy: 0.9375\n",
            "Epoch 6/10\n",
            "3/3 [==============================] - 64s 21s/step - loss: 1.8703 - accuracy: 0.6119 - val_loss: 0.1604 - val_accuracy: 0.9688\n",
            "Epoch 7/10\n",
            "3/3 [==============================] - 66s 22s/step - loss: 1.5321 - accuracy: 0.7015 - val_loss: 0.1409 - val_accuracy: 0.9375\n",
            "Epoch 8/10\n",
            "3/3 [==============================] - 81s 29s/step - loss: 1.2652 - accuracy: 0.7708 - val_loss: 0.0315 - val_accuracy: 1.0000\n",
            "Epoch 9/10\n",
            "3/3 [==============================] - 62s 21s/step - loss: 1.0948 - accuracy: 0.7463 - val_loss: 0.0435 - val_accuracy: 1.0000\n",
            "Epoch 10/10\n",
            "3/3 [==============================] - 104s 41s/step - loss: 1.0517 - accuracy: 0.7812 - val_loss: 0.0693 - val_accuracy: 0.9375\n"
          ]
        }
      ]
    },
    {
      "cell_type": "code",
      "source": [
        "# Evaluate the model on test data\n",
        "test_loss, test_accuracy = model.evaluate(test_generator)\n",
        "print(f\"Test accuracy: {test_accuracy:.2f}\")"
      ],
      "metadata": {
        "colab": {
          "base_uri": "https://localhost:8080/"
        },
        "id": "H6CWgYvFHMYG",
        "outputId": "215aa55d-9188-425e-8b73-62c813ac9ffb"
      },
      "execution_count": null,
      "outputs": [
        {
          "output_type": "stream",
          "name": "stdout",
          "text": [
            "2/2 [==============================] - 20s 707ms/step - loss: 1.5608 - accuracy: 0.7879\n",
            "Test accuracy: 0.79\n"
          ]
        }
      ]
    },
    {
      "cell_type": "code",
      "source": [
        "from tensorflow.keras.preprocessing import image\n",
        "import numpy as np\n",
        "from sklearn.metrics import classification_report\n",
        "\n",
        "# Predict on test data\n",
        "test_generator.reset()  # Reset the generator to start from the beginning\n",
        "predictions = model.predict(test_generator)\n",
        "predicted_classes = np.argmax(predictions, axis=1)\n",
        "\n",
        "# Get the true labels from the generator\n",
        "true_classes = test_generator.classes\n",
        "class_labels = list(test_generator.class_indices.keys())\n",
        "\n",
        "# Print out a classification report\n",
        "print(classification_report(true_classes, predicted_classes, target_names=class_labels))\n"
      ],
      "metadata": {
        "colab": {
          "base_uri": "https://localhost:8080/"
        },
        "id": "246A7AuFKrXF",
        "outputId": "2f4640fa-bf14-4f39-8fbc-1e98d32f01fe"
      },
      "execution_count": null,
      "outputs": [
        {
          "output_type": "stream",
          "name": "stdout",
          "text": [
            "2/2 [==============================] - 21s 530ms/step\n",
            "              precision    recall  f1-score   support\n",
            "\n",
            "       email       1.00      0.64      0.78        11\n",
            "      resume       0.65      1.00      0.79        11\n",
            "  scientific       0.89      0.73      0.80        11\n",
            "\n",
            "    accuracy                           0.79        33\n",
            "   macro avg       0.85      0.79      0.79        33\n",
            "weighted avg       0.85      0.79      0.79        33\n",
            "\n"
          ]
        }
      ]
    },
    {
      "cell_type": "code",
      "source": [
        "true_labels = test_generator.classes\n",
        "\n",
        "# Predict the classes for the test set\n",
        "predictions = model.predict(test_generator)\n",
        "predicted_classes = np.argmax(predictions, axis=1)\n",
        "\n",
        "# Calculate the number of correctly classified samples\n",
        "correct_predictions = np.sum(predicted_classes == true_labels)\n"
      ],
      "metadata": {
        "colab": {
          "base_uri": "https://localhost:8080/"
        },
        "id": "cLQTbhYfKzaD",
        "outputId": "f86b2cb1-4277-45bd-b8eb-476eab84c75f"
      },
      "execution_count": null,
      "outputs": [
        {
          "output_type": "stream",
          "name": "stdout",
          "text": [
            "2/2 [==============================] - 28s 548ms/step\n"
          ]
        }
      ]
    },
    {
      "cell_type": "code",
      "source": [
        "print(f'Total test samples: {len(true_labels)}')\n",
        "print(f'Correctly classified test samples: {correct_predictions}')\n"
      ],
      "metadata": {
        "colab": {
          "base_uri": "https://localhost:8080/"
        },
        "id": "ihr5wdDdL1yi",
        "outputId": "5472845f-f10a-457a-96d9-d8bc2fd9353b"
      },
      "execution_count": null,
      "outputs": [
        {
          "output_type": "stream",
          "name": "stdout",
          "text": [
            "Total test samples: 33\n",
            "Correctly classified test samples: 26\n"
          ]
        }
      ]
    },
    {
      "cell_type": "code",
      "source": [],
      "metadata": {
        "id": "jscoRVRYMGvg"
      },
      "execution_count": null,
      "outputs": []
    }
  ]
}